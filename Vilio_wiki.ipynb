{
  "nbformat": 4,
  "nbformat_minor": 0,
  "metadata": {
    "colab": {
      "name": "Vilio_reproduce.ipynb",
      "provenance": [],
      "collapsed_sections": []
    },
    "kernelspec": {
      "name": "python3",
      "display_name": "Python 3"
    },
    "language_info": {
      "name": "python"
    },
    "accelerator": "GPU"
  },
  "cells": [
    {
      "cell_type": "markdown",
      "metadata": {
        "id": "2tZa7UXcMLsC"
      },
      "source": [
        "## Extrct Features Environment"
      ]
    },
    {
      "cell_type": "code",
      "metadata": {
        "id": "9U7njCRsNdqI"
      },
      "source": [
        "%cd drive/MyDrive/Deep_Learning_Project/Vilio_reproduce"
      ],
      "execution_count": null,
      "outputs": []
    },
    {
      "cell_type": "code",
      "metadata": {
        "id": "7-3MfTtiM2Sm"
      },
      "source": [
        "!cd vilio/py-bottom-up-attention; pip3 install -r requirements.txt"
      ],
      "execution_count": null,
      "outputs": []
    },
    {
      "cell_type": "code",
      "metadata": {
        "id": "YHQNVKqlNvqx"
      },
      "source": [
        "!pip3 install 'git+https://github.com/cocodataset/cocoapi.git#subdirectory=PythonAPI'"
      ],
      "execution_count": null,
      "outputs": []
    },
    {
      "cell_type": "code",
      "metadata": {
        "id": "j3t00IQ6OcON"
      },
      "source": [
        "!cd vilio/py-bottom-up-attention; python3 setup.py build develop"
      ],
      "execution_count": null,
      "outputs": []
    },
    {
      "cell_type": "code",
      "metadata": {
        "id": "xG6_3RtyQAy1"
      },
      "source": [
        "!pwd"
      ],
      "execution_count": null,
      "outputs": []
    },
    {
      "cell_type": "markdown",
      "metadata": {
        "id": "WL16I4kLOLyD"
      },
      "source": [
        ""
      ]
    },
    {
      "cell_type": "code",
      "metadata": {
        "id": "OJmAKLANMLCc"
      },
      "source": [
        "!cp ../base-vg-labels/ep_107_1192087/pytorch_model.bin vilio/data/"
      ],
      "execution_count": null,
      "outputs": []
    },
    {
      "cell_type": "code",
      "metadata": {
        "id": "mBsQQyNxSEDl"
      },
      "source": [
        "!cd vilio/py-bottom-up-attention; python3 detectron2_mscoco_proposal_maxnms.py --batchsize 4 --split img --weight vgattr --minboxes 50 --maxboxes 50 --dataroot ../hateful_memes/"
      ],
      "execution_count": null,
      "outputs": []
    },
    {
      "cell_type": "markdown",
      "metadata": {
        "id": "Xisjig2XL_ZW"
      },
      "source": [
        "## Set Up Environment"
      ]
    },
    {
      "cell_type": "code",
      "metadata": {
        "id": "zSVFyOMrJzRS"
      },
      "source": [
        "%cd drive/MyDrive/Deep_Learning_Project/Vilio_reproduce/"
      ],
      "execution_count": null,
      "outputs": []
    },
    {
      "cell_type": "code",
      "metadata": {
        "id": "KEMgF7ysKTsn"
      },
      "source": [
        "!git clone https://github.com/airsplay/py-bottom-up-attention.git"
      ],
      "execution_count": null,
      "outputs": []
    },
    {
      "cell_type": "code",
      "metadata": {
        "id": "SQfeq-8nL7ni"
      },
      "source": [
        "!cd py-bottom-up-attention"
      ],
      "execution_count": null,
      "outputs": []
    },
    {
      "cell_type": "code",
      "metadata": {
        "id": "N2O9fm9w5VZc"
      },
      "source": [
        "!pip3 install wikipedia"
      ],
      "execution_count": null,
      "outputs": []
    },
    {
      "cell_type": "code",
      "metadata": {
        "id": "uTaFP9FDbDFr"
      },
      "source": [
        "!pip install PyDictionary"
      ],
      "execution_count": null,
      "outputs": []
    },
    {
      "cell_type": "code",
      "metadata": {
        "id": "_LoZTU9LMJ1J"
      },
      "source": [
        "!pip3 install -r py-bottom-up-attention/requirements.txt"
      ],
      "execution_count": null,
      "outputs": []
    },
    {
      "cell_type": "code",
      "metadata": {
        "id": "2DwV6NtTP-59"
      },
      "source": [
        "!pip3 install torch --upgrade"
      ],
      "execution_count": null,
      "outputs": []
    },
    {
      "cell_type": "code",
      "metadata": {
        "id": "jmTqpWdITLAj"
      },
      "source": [
        "!pip3 install --upgrade torch torchvision"
      ],
      "execution_count": null,
      "outputs": []
    },
    {
      "cell_type": "code",
      "metadata": {
        "id": "n4qAM2wEOI89"
      },
      "source": [
        "!python3 py-bottom-up-attention/setup.py build develop"
      ],
      "execution_count": null,
      "outputs": []
    },
    {
      "cell_type": "code",
      "metadata": {
        "id": "ZKll_WxHSGSv"
      },
      "source": [
        "!python3 -m pip install 'git+https://github.com/facebookresearch/detectron2.git'"
      ],
      "execution_count": null,
      "outputs": []
    },
    {
      "cell_type": "code",
      "metadata": {
        "id": "bpuOwd0CWcYb"
      },
      "source": [
        "!pip3 install fvcore"
      ],
      "execution_count": null,
      "outputs": []
    },
    {
      "cell_type": "markdown",
      "metadata": {
        "id": "a83DodLiCc8L"
      },
      "source": [
        "## Generate Features"
      ]
    },
    {
      "cell_type": "code",
      "metadata": {
        "id": "PPDrtZfbCclh"
      },
      "source": [
        "!nvidia-smi"
      ],
      "execution_count": null,
      "outputs": []
    },
    {
      "cell_type": "code",
      "metadata": {
        "id": "RRo8eUDtC2AV"
      },
      "source": [
        "!pip3 install 'git+https://github.com/cocodataset/cocoapi.git#subdirectory=PythonAPI'"
      ],
      "execution_count": null,
      "outputs": []
    },
    {
      "cell_type": "code",
      "metadata": {
        "id": "ZeykEZ6FDMDG"
      },
      "source": [
        "!pip3 install pyyaml==5.1\n",
        "!pip3 install torch==1.9.0+cu102 torchvision==0.10.0+cu102 -f https://download.pytorch.org/whl/torch_stable.html\n",
        "!pip3 install --upgrade pycocotools\n",
        "!pip install detectron2 -f https://dl.fbaipublicfiles.com/detectron2/wheels/cu102/torch1.9/index.html\n"
      ],
      "execution_count": null,
      "outputs": []
    },
    {
      "cell_type": "code",
      "metadata": {
        "id": "BGeO52-sD_Ug"
      },
      "source": [
        "# check pytorch installation: \n",
        "import torch, torchvision\n",
        "print(torch.__version__, torch.cuda.is_available())\n",
        "assert torch.__version__.startswith(\"1.9\")   # please manually install torch 1.9 if Colab changes its default version"
      ],
      "execution_count": null,
      "outputs": []
    },
    {
      "cell_type": "code",
      "metadata": {
        "id": "jgeHguScFCQO"
      },
      "source": [
        "# Some basic setup:\n",
        "# Setup detectron2 logger\n",
        "import detectron2\n",
        "from detectron2.utils.logger import setup_logger\n",
        "setup_logger()\n",
        "\n",
        "# import some common libraries\n",
        "import numpy as np\n",
        "import os, json, cv2, random\n",
        "from google.colab.patches import cv2_imshow\n",
        "\n",
        "# import some common detectron2 utilities\n",
        "from detectron2 import model_zoo\n",
        "from detectron2.engine import DefaultPredictor\n",
        "from detectron2.config import get_cfg\n",
        "from detectron2.utils.visualizer import Visualizer\n",
        "from detectron2.data import MetadataCatalog, DatasetCatalog\n"
      ],
      "execution_count": null,
      "outputs": []
    },
    {
      "cell_type": "markdown",
      "metadata": {
        "id": "lFFCAREcSAvO"
      },
      "source": [
        "## Combine Objects Description"
      ]
    },
    {
      "cell_type": "code",
      "metadata": {
        "id": "btI3ObCdRgOl"
      },
      "source": [
        "import detectron2\n",
        "from detectron2.utils.logger import setup_logger\n",
        "setup_logger()\n",
        "import os\n",
        "\n",
        "# import some common libraries\n",
        "import numpy as np\n",
        "import cv2\n",
        "import torch\n",
        "import random\n",
        "\n",
        "# import some common detectron2 utilities\n",
        "from detectron2.engine import DefaultPredictor\n",
        "from detectron2.config import get_cfg\n",
        "from detectron2.utils.visualizer import Visualizer\n",
        "from detectron2.data import MetadataCatalog\n",
        "\n",
        "from matplotlib import pyplot as plt\n",
        "\n",
        "import io\n",
        "import cv2\n",
        "import numpy as np\n",
        "from IPython.display import clear_output, Image, display\n",
        "import PIL.Image\n",
        "\n",
        "from ast import literal_eval\n",
        "import pandas as pd\n",
        "import wikipedia\n",
        "from PyDictionary import PyDictionary\n",
        "\n",
        "\n",
        "def showarray(a, fmt='jpeg'):\n",
        "    a = np.uint8(np.clip(a, 0, 255))\n",
        "    f = io.BytesIO()\n",
        "    PIL.Image.fromarray(a).save(f, fmt)\n",
        "    display(Image(data=f.getvalue()))"
      ],
      "execution_count": null,
      "outputs": []
    },
    {
      "cell_type": "code",
      "metadata": {
        "colab": {
          "base_uri": "https://localhost:8080/"
        },
        "id": "OTxnWTGbavzp",
        "outputId": "8c1cf9fb-09b3-44b7-8c66-e652bde97da3"
      },
      "source": [
        "print(os.getcwd())"
      ],
      "execution_count": null,
      "outputs": [
        {
          "output_type": "stream",
          "text": [
            "/content/drive/My Drive/Deep_Learning_Project/Vilio_reproduce\n"
          ],
          "name": "stdout"
        }
      ]
    },
    {
      "cell_type": "code",
      "metadata": {
        "id": "FbzouAlPTRIP"
      },
      "source": [
        "# Load VG Classes\n",
        "data_path = '/content/drive/MyDrive/Deep_Learning_Project/Vilio_reproduce/py-bottom-up-attention/demo/data/genome/1600-400-20'\n",
        "\n",
        "vg_classes = []\n",
        "with open(os.path.join(data_path, 'objects_vocab.txt')) as f:\n",
        "    for object in f.readlines():\n",
        "        vg_classes.append(object.split(',')[0].lower().strip())\n",
        "\n",
        "attr_classes = []\n",
        "with open(os.path.join(data_path, 'attributes_vocab.txt')) as f:\n",
        "    for object in f.readlines():\n",
        "        attr_classes.append(object.split(',')[0].lower().strip())\n",
        "        \n",
        "MetadataCatalog.get(\"vg\").thing_classes = vg_classes"
      ],
      "execution_count": null,
      "outputs": []
    },
    {
      "cell_type": "code",
      "metadata": {
        "id": "9LY7qFg1UxuL"
      },
      "source": [
        "im = cv2.imread(\"/content/drive/MyDrive/Deep_Learning_Project/hateful_memes/img/73501.png\")\n",
        "im_rgb = cv2.cvtColor(im, cv2.COLOR_BGR2RGB)\n",
        "showarray(im_rgb)"
      ],
      "execution_count": null,
      "outputs": []
    },
    {
      "cell_type": "code",
      "metadata": {
        "id": "a9n94YS9uyD-"
      },
      "source": [
        "# Load results\n",
        "\n",
        "results = pd.read_csv('/content/drive/MyDrive/Deep_Learning_Project/hateful_memes/hm_vgattr3636_parsed_output.csv')"
      ],
      "execution_count": null,
      "outputs": []
    },
    {
      "cell_type": "code",
      "metadata": {
        "colab": {
          "base_uri": "https://localhost:8080/",
          "height": 581
        },
        "id": "Qrn4OVOtvz5e",
        "outputId": "73b95c94-cb61-41f2-f184-360ade560cd9"
      },
      "source": [
        "results.head()"
      ],
      "execution_count": null,
      "outputs": [
        {
          "output_type": "execute_result",
          "data": {
            "text/html": [
              "<div>\n",
              "<style scoped>\n",
              "    .dataframe tbody tr th:only-of-type {\n",
              "        vertical-align: middle;\n",
              "    }\n",
              "\n",
              "    .dataframe tbody tr th {\n",
              "        vertical-align: top;\n",
              "    }\n",
              "\n",
              "    .dataframe thead th {\n",
              "        text-align: right;\n",
              "    }\n",
              "</style>\n",
              "<table border=\"1\" class=\"dataframe\">\n",
              "  <thead>\n",
              "    <tr style=\"text-align: right;\">\n",
              "      <th></th>\n",
              "      <th>Unnamed: 0</th>\n",
              "      <th>img_id</th>\n",
              "      <th>img_h</th>\n",
              "      <th>img_w</th>\n",
              "      <th>objects_id</th>\n",
              "      <th>objects_conf</th>\n",
              "      <th>attrs_id</th>\n",
              "      <th>attrs_conf</th>\n",
              "      <th>num_boxes</th>\n",
              "      <th>boxes</th>\n",
              "      <th>features</th>\n",
              "    </tr>\n",
              "  </thead>\n",
              "  <tbody>\n",
              "    <tr>\n",
              "      <th>0</th>\n",
              "      <td>0</td>\n",
              "      <td>1829</td>\n",
              "      <td>800</td>\n",
              "      <td>638</td>\n",
              "      <td>[ 119   50  372  941  546  546  372  452  327 ...</td>\n",
              "      <td>[0.95626676 0.92466885 0.8605039  0.85878277 0...</td>\n",
              "      <td>[ 23 156   7 338   6   6   7 105  23  11   6  ...</td>\n",
              "      <td>[0.6389162  0.18531372 0.13934124 0.1577835  0...</td>\n",
              "      <td>36</td>\n",
              "      <td>[[192.9586    210.34647   379.8297    339.7587...</td>\n",
              "      <td>[[0.00000000e+00 0.00000000e+00 1.22361295e-01...</td>\n",
              "    </tr>\n",
              "    <tr>\n",
              "      <th>1</th>\n",
              "      <td>1</td>\n",
              "      <td>27150</td>\n",
              "      <td>364</td>\n",
              "      <td>550</td>\n",
              "      <td>[ 372  372  372   50  462  462  438   50   50 ...</td>\n",
              "      <td>[0.95784    0.9332068  0.6296269  0.50006616 0...</td>\n",
              "      <td>[ 0  0  0 14 11 11  4 14 14 56 11 14 11 11 14 ...</td>\n",
              "      <td>[0.29027286 0.25311744 0.16535084 0.45917663 0...</td>\n",
              "      <td>36</td>\n",
              "      <td>[[3.46339813e+02 7.87766876e+01 5.01577820e+02...</td>\n",
              "      <td>[[0.         0.         0.         ... 0.     ...</td>\n",
              "    </tr>\n",
              "    <tr>\n",
              "      <th>2</th>\n",
              "      <td>2</td>\n",
              "      <td>90842</td>\n",
              "      <td>800</td>\n",
              "      <td>391</td>\n",
              "      <td>[  50   50  119  919  119  310   50  372  191 ...</td>\n",
              "      <td>[0.93861437 0.90108556 0.7651991  0.74301803 0...</td>\n",
              "      <td>[156 209   7  10   0   0   0   7   7   7  56  ...</td>\n",
              "      <td>[0.15323618 0.16666874 0.38815346 0.72948366 0...</td>\n",
              "      <td>36</td>\n",
              "      <td>[[138.90503    23.854029  354.8863    274.9088...</td>\n",
              "      <td>[[0.0000000e+00 1.5041822e-01 0.0000000e+00 .....</td>\n",
              "    </tr>\n",
              "    <tr>\n",
              "      <th>3</th>\n",
              "      <td>3</td>\n",
              "      <td>73501</td>\n",
              "      <td>512</td>\n",
              "      <td>512</td>\n",
              "      <td>[ 234 1496   50  327  372  546  198  467  274 ...</td>\n",
              "      <td>[0.91288483 0.81429434 0.79973793 0.746937   0...</td>\n",
              "      <td>[ 11 115  11  11  11  11   4 163  23 196  23  ...</td>\n",
              "      <td>[0.6803433  0.26876092 0.1887938  0.21447974 0...</td>\n",
              "      <td>36</td>\n",
              "      <td>[[1.2626323e+02 5.2939976e+01 3.4049152e+02 2....</td>\n",
              "      <td>[[4.1491752e-03 3.3804424e-02 4.1034531e-02 .....</td>\n",
              "    </tr>\n",
              "    <tr>\n",
              "      <th>4</th>\n",
              "      <td>4</td>\n",
              "      <td>63712</td>\n",
              "      <td>365</td>\n",
              "      <td>550</td>\n",
              "      <td>[ 191   50 1127 1127   50  440  234 1038  234 ...</td>\n",
              "      <td>[0.5866494  0.5391369  0.49425042 0.45221475 0...</td>\n",
              "      <td>[ 11   7   7   7 166  11  11   7  11   7 166  ...</td>\n",
              "      <td>[0.60890704 0.3482649  0.7540588  0.7632702  0...</td>\n",
              "      <td>36</td>\n",
              "      <td>[[3.31277954e+02 1.68662613e+02 3.85197876e+02...</td>\n",
              "      <td>[[9.4464086e-02 0.0000000e+00 0.0000000e+00 .....</td>\n",
              "    </tr>\n",
              "  </tbody>\n",
              "</table>\n",
              "</div>"
            ],
            "text/plain": [
              "   Unnamed: 0  ...                                           features\n",
              "0           0  ...  [[0.00000000e+00 0.00000000e+00 1.22361295e-01...\n",
              "1           1  ...  [[0.         0.         0.         ... 0.     ...\n",
              "2           2  ...  [[0.0000000e+00 1.5041822e-01 0.0000000e+00 .....\n",
              "3           3  ...  [[4.1491752e-03 3.3804424e-02 4.1034531e-02 .....\n",
              "4           4  ...  [[9.4464086e-02 0.0000000e+00 0.0000000e+00 .....\n",
              "\n",
              "[5 rows x 11 columns]"
            ]
          },
          "metadata": {
            "tags": []
          },
          "execution_count": 20
        }
      ]
    },
    {
      "cell_type": "code",
      "metadata": {
        "id": "UbqeebKlv8m6"
      },
      "source": [
        "# try_1235 = results.loc[results['img_id'] == 73501,['objects_id']]\n",
        "# list_str = try_1235['objects_id'][3].replace('\\n','').replace('[','').replace(']','').split(' ')\n",
        "# list_str = list(filter(None, list_str))\n",
        "# for i in list_str:\n",
        "#   print(MetadataCatalog.get(\"vg\").thing_classes[int(i)])"
      ],
      "execution_count": null,
      "outputs": []
    },
    {
      "cell_type": "code",
      "metadata": {
        "id": "ta_Q5B7lU9DF"
      },
      "source": [
        "# Get Wikipedia result\n",
        "dictionary=PyDictionary()\n",
        "\n",
        "metadata = MetadataCatalog.get(\"vg\").thing_classes\n",
        "wiki_pair = dict()"
      ],
      "execution_count": null,
      "outputs": []
    },
    {
      "cell_type": "code",
      "metadata": {
        "id": "est8W4Enf3hz"
      },
      "source": [
        "for element in metadata:\n",
        "  dic_m = dictionary.meaning(element.lower())\n",
        "  if dic_m is not None:\n",
        "    wiki_pair[element] = dic_m[list(dic_m.keys())[0]][0]\n",
        "  else: \n",
        "    try:\n",
        "      sumary = wikipedia.summary(wikipedia.search(element)[0])\n",
        "      wiki_pair[element] = sumary\n",
        "    except wikipedia.DisambiguationError as e:\n",
        "      wiki_pair[element] = 'Ambiguation'\n",
        "    except:\n",
        "      wiki_pair[element] = 'No Page'\n",
        "  "
      ],
      "execution_count": null,
      "outputs": []
    },
    {
      "cell_type": "code",
      "metadata": {
        "id": "D-yuswnvfft_"
      },
      "source": [
        "attr_pair = dict()\n",
        "for att in attr_classes:\n",
        "  dic_m = dictionary.meaning(att.lower())\n",
        "  if (dic_m is not None):\n",
        "    if len(dic_m[list(dic_m.keys())[0]]) > 0:\n",
        "      attr_pair[att] = dic_m[list(dic_m.keys())[0]][0]\n",
        "    elif (len(dic_m.keys()) == 1) & (len(dic_m[list(dic_m.keys())[0]]) == 0):\n",
        "      attr_pair[att] = 'No Page'\n",
        "    elif (len(dic_m.keys()) > 1) & (len(dic_m[list(dic_m.keys())[0]]) == 0):\n",
        "      attr_pair[att] = dic_m[list(dic_m.keys())[1]][0]\n",
        "    else:\n",
        "      attr_pair[att] = 'No Page'\n",
        "  else: \n",
        "    try:\n",
        "      sumary = wikipedia.summary(wikipedia.search(att)[0])\n",
        "      attr_pair[att] = sumary\n",
        "    except wikipedia.DisambiguationError as e:\n",
        "      attr_pair[att] = 'Ambiguation'\n",
        "    except:\n",
        "      attr_pair[att] = 'No Page'"
      ],
      "execution_count": null,
      "outputs": []
    },
    {
      "cell_type": "code",
      "metadata": {
        "id": "9z9NMxiCk74L"
      },
      "source": [
        "# c = 0\n",
        "# for k, v in wiki_pair.items():  # for name, age in dictionary.iteritems():  (for Python 2.x)\n",
        "#   if v == 'No Page':\n",
        "#     c += 1\n",
        "#     print(k)\n",
        "#   elif v == 'Ambiguation':\n",
        "#     c += 1\n",
        "#     print(k)\n",
        "#   elif v is None:\n",
        "#     c += 1\n",
        "#     print(k)"
      ],
      "execution_count": null,
      "outputs": []
    },
    {
      "cell_type": "markdown",
      "metadata": {
        "id": "URLX_f37dcN1"
      },
      "source": [
        "Mapping the description to the major Object of image. Each image pick the top two objects, and the objects is based on the size of the box and the probabilities. "
      ]
    },
    {
      "cell_type": "code",
      "metadata": {
        "id": "JNvblxFMgMKr"
      },
      "source": [
        "def convert_to_list(str_input):\n",
        "  list_str = str_input.replace('\\n','').replace('[','').replace(']','').split(' ')\n",
        "  list_str = list(filter(None, list_str))\n",
        "  return list_str"
      ],
      "execution_count": null,
      "outputs": []
    },
    {
      "cell_type": "code",
      "metadata": {
        "id": "uSGJREH_r9Te"
      },
      "source": [
        "def list_over_list(str_input):\n",
        "  list_str = str_input.replace('\\n','').replace('      ',' ').replace('     ',' ').replace('    ',' ').replace('   ',' ').replace('  ',' ').replace(' ]',']').replace('[ ','[').replace(' ',',')\n",
        "  list_str = literal_eval(list_str)\n",
        "  return list_str\n"
      ],
      "execution_count": null,
      "outputs": []
    },
    {
      "cell_type": "code",
      "metadata": {
        "id": "6bgGX1aIzpxV"
      },
      "source": [
        "def area(list_list):\n",
        "  out_list = []\n",
        "  for l in list_list:\n",
        "    out_list.append(l[2] * l[3])\n",
        "  return out_list"
      ],
      "execution_count": null,
      "outputs": []
    },
    {
      "cell_type": "code",
      "metadata": {
        "id": "RTOdQTRf18Hy"
      },
      "source": [
        "def obj_score(obj_conf, obj_area):\n",
        "  w_conf = 0.8\n",
        "  w_area = 0.5\n",
        "  final_score = w_conf * np.array(obj_conf).astype('float32') + w_area * np.array(obj_area).astype('float32')\n",
        "  return final_score"
      ],
      "execution_count": null,
      "outputs": []
    },
    {
      "cell_type": "code",
      "metadata": {
        "id": "0d2XpLx67F4n"
      },
      "source": [
        "def select_obj(score, objs):\n",
        "  index = np.argmax(score)\n",
        "  final_obj = objs[index]\n",
        "  return final_obj"
      ],
      "execution_count": null,
      "outputs": []
    },
    {
      "cell_type": "code",
      "metadata": {
        "id": "QC_w7F-ssJdF"
      },
      "source": [
        "def combine_str(str1, str2):\n",
        "  if str1 in ['Ambiguation','No Page']:\n",
        "    return str2\n",
        "  elif str2 in ['Ambiguation','No Page']:\n",
        "    return str1\n",
        "  else:\n",
        "    return str1.strip() + '|' + str2.strip()"
      ],
      "execution_count": null,
      "outputs": []
    },
    {
      "cell_type": "code",
      "metadata": {
        "id": "A0qb4KxLrknT"
      },
      "source": [
        "ready_results = results.copy()\n",
        "ready_results.loc[:,'objects_id'] = ready_results.apply(lambda x: convert_to_list(x['objects_id']), 1)\n",
        "ready_results.loc[:,'objects_conf'] = ready_results.apply(lambda x: convert_to_list(x['objects_conf']), 1)\n",
        "ready_results.loc[:,'attrs_id'] = ready_results.apply(lambda x: convert_to_list(x['attrs_id']), 1)\n",
        "ready_results.loc[:,'attrs_conf'] = ready_results.apply(lambda x: convert_to_list(x['attrs_conf']), 1)\n",
        "ready_results.loc[:,'boxes'] = ready_results.apply(lambda x: list_over_list(x['boxes']), 1)\n"
      ],
      "execution_count": null,
      "outputs": []
    },
    {
      "cell_type": "code",
      "metadata": {
        "id": "EhBfCWis1gTE"
      },
      "source": [
        "ready_results.loc[:,'area_obj'] = ready_results.apply(lambda x: area(x['boxes']), 1)\n",
        "ready_results.loc[:,'area'] = ready_results.apply(lambda x: x['img_h'] * x['img_w'], 1)\n",
        "ready_results.loc[:,'area_obj_perc'] = ready_results.apply(lambda x: np.array(x['area_obj'])/x['area'], 1)\n",
        "ready_results.loc[:,'obj_score'] = ready_results.apply(lambda x: obj_score(x['objects_conf'], x['area_obj_perc']), 1)\n",
        "ready_results.loc[:,'select_obj'] = ready_results.apply(lambda x: select_obj(x['obj_score'], x['objects_id']), 1)\n",
        "ready_results.loc[:,'obj_attr'] = ready_results.apply(lambda x: select_obj(x['obj_score'], x['attrs_id']), 1)"
      ],
      "execution_count": null,
      "outputs": []
    },
    {
      "cell_type": "code",
      "metadata": {
        "id": "LzABeUR49LJL"
      },
      "source": [
        "# Get the Obj and correspoinding desc\n",
        "ready_results.loc[:,'obj_nm'] = ready_results.apply(lambda x: metadata[int(x['select_obj'])] , 1)\n",
        "ready_results.loc[:,'attri_nm'] = ready_results.apply(lambda x: attr_classes[int(x['obj_attr'])],1)\n",
        "ready_results.loc[:,'obj_desc'] = ready_results.apply(lambda x: wiki_pair[x['obj_nm']] , 1)\n",
        "ready_results.loc[:,'attri_desc'] = ready_results.apply(lambda x: attr_pair[x['attri_nm']] , 1)"
      ],
      "execution_count": null,
      "outputs": []
    },
    {
      "cell_type": "code",
      "metadata": {
        "id": "6jjiklGIiRZf"
      },
      "source": [
        "ready_results.loc[:,'desc'] = ready_results.apply(lambda x: combine_str(x['obj_desc'], x['attri_desc']), 1)"
      ],
      "execution_count": null,
      "outputs": []
    },
    {
      "cell_type": "markdown",
      "metadata": {
        "id": "bSG9nzJrGS2R"
      },
      "source": [
        "Map the Obj Description to the Images."
      ]
    },
    {
      "cell_type": "code",
      "metadata": {
        "colab": {
          "base_uri": "https://localhost:8080/",
          "height": 632
        },
        "id": "M6be3R1JsvIL",
        "outputId": "ba9f13cf-f07d-4e13-9435-703dfcaeb064"
      },
      "source": [
        "ready_results.head()"
      ],
      "execution_count": null,
      "outputs": [
        {
          "output_type": "execute_result",
          "data": {
            "text/html": [
              "<div>\n",
              "<style scoped>\n",
              "    .dataframe tbody tr th:only-of-type {\n",
              "        vertical-align: middle;\n",
              "    }\n",
              "\n",
              "    .dataframe tbody tr th {\n",
              "        vertical-align: top;\n",
              "    }\n",
              "\n",
              "    .dataframe thead th {\n",
              "        text-align: right;\n",
              "    }\n",
              "</style>\n",
              "<table border=\"1\" class=\"dataframe\">\n",
              "  <thead>\n",
              "    <tr style=\"text-align: right;\">\n",
              "      <th></th>\n",
              "      <th>Unnamed: 0</th>\n",
              "      <th>img_id</th>\n",
              "      <th>img_h</th>\n",
              "      <th>img_w</th>\n",
              "      <th>objects_id</th>\n",
              "      <th>objects_conf</th>\n",
              "      <th>attrs_id</th>\n",
              "      <th>attrs_conf</th>\n",
              "      <th>num_boxes</th>\n",
              "      <th>boxes</th>\n",
              "      <th>features</th>\n",
              "      <th>area_obj</th>\n",
              "      <th>area</th>\n",
              "      <th>area_obj_perc</th>\n",
              "      <th>obj_score</th>\n",
              "      <th>select_obj</th>\n",
              "      <th>obj_attr</th>\n",
              "      <th>obj_nm</th>\n",
              "      <th>attri_nm</th>\n",
              "      <th>obj_desc</th>\n",
              "      <th>attri_desc</th>\n",
              "      <th>desc</th>\n",
              "    </tr>\n",
              "  </thead>\n",
              "  <tbody>\n",
              "    <tr>\n",
              "      <th>0</th>\n",
              "      <td>0</td>\n",
              "      <td>1829</td>\n",
              "      <td>800</td>\n",
              "      <td>638</td>\n",
              "      <td>[119, 50, 372, 941, 546, 546, 372, 452, 327, 5...</td>\n",
              "      <td>[0.95626676, 0.92466885, 0.8605039, 0.85878277...</td>\n",
              "      <td>[23, 156, 7, 338, 6, 6, 7, 105, 23, 11, 6, 23,...</td>\n",
              "      <td>[0.6389162, 0.18531372, 0.13934124, 0.1577835,...</td>\n",
              "      <td>36</td>\n",
              "      <td>[[192.9586, 210.34647, 379.8297, 339.75873], [...</td>\n",
              "      <td>[[0.00000000e+00 0.00000000e+00 1.22361295e-01...</td>\n",
              "      <td>[129050.45648828101, 451149.81291404, 384306.0...</td>\n",
              "      <td>510400</td>\n",
              "      <td>[0.2528418034645004, 0.8839142102547806, 0.752...</td>\n",
              "      <td>[0.8914343, 1.1816921, 1.0648785, 1.113147, 0....</td>\n",
              "      <td>50</td>\n",
              "      <td>156</td>\n",
              "      <td>man</td>\n",
              "      <td>smiling</td>\n",
              "      <td>an adult person who is male (as opposed to a w...</td>\n",
              "      <td>a facial expression characterized by turning u...</td>\n",
              "      <td>an adult person who is male (as opposed to a w...</td>\n",
              "    </tr>\n",
              "    <tr>\n",
              "      <th>1</th>\n",
              "      <td>1</td>\n",
              "      <td>27150</td>\n",
              "      <td>364</td>\n",
              "      <td>550</td>\n",
              "      <td>[372, 372, 372, 50, 462, 462, 438, 50, 50, 162...</td>\n",
              "      <td>[0.95784, 0.9332068, 0.6296269, 0.50006616, 0....</td>\n",
              "      <td>[0, 0, 0, 14, 11, 11, 4, 14, 14, 56, 11, 14, 1...</td>\n",
              "      <td>[0.29027286, 0.25311744, 0.16535084, 0.4591766...</td>\n",
              "      <td>36</td>\n",
              "      <td>[[346.339813, 78.7766876, 501.57782, 248.48222...</td>\n",
              "      <td>[[0.         0.         0.         ... 0.     ...</td>\n",
              "      <td>[124633.17222267168, 50958.27767393273, 62317....</td>\n",
              "      <td>200200</td>\n",
              "      <td>[0.6225433177955628, 0.25453685151814553, 0.31...</td>\n",
              "      <td>[1.0775437, 0.8738339, 0.6593401, 0.75378466, ...</td>\n",
              "      <td>372</td>\n",
              "      <td>0</td>\n",
              "      <td>hand</td>\n",
              "      <td>gray</td>\n",
              "      <td>the (prehensile</td>\n",
              "      <td>a neutral achromatic color midway between whit...</td>\n",
              "      <td>the (prehensile|a neutral achromatic color mid...</td>\n",
              "    </tr>\n",
              "    <tr>\n",
              "      <th>2</th>\n",
              "      <td>2</td>\n",
              "      <td>90842</td>\n",
              "      <td>800</td>\n",
              "      <td>391</td>\n",
              "      <td>[50, 50, 119, 919, 119, 310, 50, 372, 191, 50,...</td>\n",
              "      <td>[0.93861437, 0.90108556, 0.7651991, 0.74301803...</td>\n",
              "      <td>[156, 209, 7, 10, 0, 0, 0, 7, 7, 7, 56, 7, 7, ...</td>\n",
              "      <td>[0.15323618, 0.16666874, 0.38815346, 0.7294836...</td>\n",
              "      <td>36</td>\n",
              "      <td>[[138.90503, 23.854029, 354.8863, 274.9088], [...</td>\n",
              "      <td>[[0.0000000e+00 1.5041822e-01 0.0000000e+00 .....</td>\n",
              "      <td>[97561.36686944, 249371.69252294, 148731.67201...</td>\n",
              "      <td>312800</td>\n",
              "      <td>[0.31189695290741687, 0.7972240809556905, 0.47...</td>\n",
              "      <td>[0.90683997, 1.1194805, 0.84990174, 0.6625915,...</td>\n",
              "      <td>50</td>\n",
              "      <td>209</td>\n",
              "      <td>man</td>\n",
              "      <td>standing</td>\n",
              "      <td>an adult person who is male (as opposed to a w...</td>\n",
              "      <td>social or financial or professional status or ...</td>\n",
              "      <td>an adult person who is male (as opposed to a w...</td>\n",
              "    </tr>\n",
              "    <tr>\n",
              "      <th>3</th>\n",
              "      <td>3</td>\n",
              "      <td>73501</td>\n",
              "      <td>512</td>\n",
              "      <td>512</td>\n",
              "      <td>[234, 1496, 50, 327, 372, 546, 198, 467, 274, ...</td>\n",
              "      <td>[0.91288483, 0.81429434, 0.79973793, 0.746937,...</td>\n",
              "      <td>[11, 115, 11, 11, 11, 11, 4, 163, 23, 196, 23,...</td>\n",
              "      <td>[0.6803433, 0.26876092, 0.1887938, 0.21447974,...</td>\n",
              "      <td>36</td>\n",
              "      <td>[[126.26323, 52.939976, 340.49152, 206.95631],...</td>\n",
              "      <td>[[4.1491752e-03 3.3804424e-02 4.1034531e-02 .....</td>\n",
              "      <td>[70466.8685654912, 218265.3812813435, 199713.0...</td>\n",
              "      <td>262144</td>\n",
              "      <td>[0.26880977083393554, 0.8326163531545391, 0.76...</td>\n",
              "      <td>[0.8647128, 1.0677437, 1.0207126, 0.7287651, 0...</td>\n",
              "      <td>1496</td>\n",
              "      <td>115</td>\n",
              "      <td>sleeve</td>\n",
              "      <td>long</td>\n",
              "      <td>the part of a garment that is attached at the ...</td>\n",
              "      <td>desire strongly or persistently</td>\n",
              "      <td>the part of a garment that is attached at the ...</td>\n",
              "    </tr>\n",
              "    <tr>\n",
              "      <th>4</th>\n",
              "      <td>4</td>\n",
              "      <td>63712</td>\n",
              "      <td>365</td>\n",
              "      <td>550</td>\n",
              "      <td>[191, 50, 1127, 1127, 50, 440, 234, 1038, 234,...</td>\n",
              "      <td>[0.5866494, 0.5391369, 0.49425042, 0.45221475,...</td>\n",
              "      <td>[11, 7, 7, 7, 166, 11, 11, 7, 11, 7, 166, 11, ...</td>\n",
              "      <td>[0.60890704, 0.3482649, 0.7540588, 0.7632702, ...</td>\n",
              "      <td>36</td>\n",
              "      <td>[[331.277954, 168.662613, 385.197876, 244.9898...</td>\n",
              "      <td>[[9.4464086e-02 0.0000000e+00 0.0000000e+00 .....</td>\n",
              "      <td>[94369.56523918408, 178096.23984245965, 103734...</td>\n",
              "      <td>200750</td>\n",
              "      <td>[0.47008500741810255, 0.8871543703235848, 0.51...</td>\n",
              "      <td>[0.70436203, 0.8748867, 0.6537668, 0.53657186,...</td>\n",
              "      <td>50</td>\n",
              "      <td>7</td>\n",
              "      <td>man</td>\n",
              "      <td>white</td>\n",
              "      <td>an adult person who is male (as opposed to a w...</td>\n",
              "      <td>a Caucasian</td>\n",
              "      <td>an adult person who is male (as opposed to a w...</td>\n",
              "    </tr>\n",
              "  </tbody>\n",
              "</table>\n",
              "</div>"
            ],
            "text/plain": [
              "   Unnamed: 0  ...                                               desc\n",
              "0           0  ...  an adult person who is male (as opposed to a w...\n",
              "1           1  ...  the (prehensile|a neutral achromatic color mid...\n",
              "2           2  ...  an adult person who is male (as opposed to a w...\n",
              "3           3  ...  the part of a garment that is attached at the ...\n",
              "4           4  ...  an adult person who is male (as opposed to a w...\n",
              "\n",
              "[5 rows x 22 columns]"
            ]
          },
          "metadata": {
            "tags": []
          },
          "execution_count": 34
        }
      ]
    },
    {
      "cell_type": "code",
      "metadata": {
        "id": "I7LLXNg7gxpM"
      },
      "source": [
        "# for the disctionary between image and obj and attributes\n",
        "final_out = ready_results.loc[:,['img_id','desc']]\n",
        "img_desc_dict = final_out.to_dict()"
      ],
      "execution_count": null,
      "outputs": []
    },
    {
      "cell_type": "markdown",
      "metadata": {
        "id": "4hjjz51MTcdr"
      },
      "source": [
        "## Convert the Description to TSV format"
      ]
    },
    {
      "cell_type": "code",
      "metadata": {
        "id": "-VRW2mSLntZC"
      },
      "source": [
        "!pwd"
      ],
      "execution_count": null,
      "outputs": []
    },
    {
      "cell_type": "code",
      "metadata": {
        "id": "ziqEr9X3T-FO"
      },
      "source": [
        "# Combine the Description with the JSON sentences\n",
        "import json\n",
        "\n",
        "raw_data = []\n",
        "splits = ['train', 'traindev','test_seen','test_unseen','dev_seen','dev_unseen'] # , 'traindev','test_seen','test_unseen','dev_seen','dev_unseen'\n",
        "for split in splits:\n",
        "  with open(os.path.join(\"/content/drive/MyDrive/Deep_Learning_Project/hateful_memes/\", f\"{split}.jsonl\"), 'r') as j:\n",
        "    for line in j:\n",
        "      raw_data.append(json.loads(line))"
      ],
      "execution_count": null,
      "outputs": []
    },
    {
      "cell_type": "code",
      "metadata": {
        "id": "VPP1yu5spbzI"
      },
      "source": [
        "len(raw_data)"
      ],
      "execution_count": null,
      "outputs": []
    },
    {
      "cell_type": "code",
      "metadata": {
        "id": "MCZGOeqmUlmf"
      },
      "source": [
        "df_train.head()"
      ],
      "execution_count": null,
      "outputs": []
    },
    {
      "cell_type": "code",
      "metadata": {
        "id": "NvotlxgAriMV"
      },
      "source": [
        "df_train = pd.DataFrame.from_records(raw_data)\n",
        "df_train.loc[:,'id'] = df_train.apply(lambda x:int(x['id']),1)"
      ],
      "execution_count": null,
      "outputs": []
    },
    {
      "cell_type": "code",
      "metadata": {
        "id": "rbe_8nYgzQum"
      },
      "source": [
        "cb_train = pd.merge(left = df_train, right = final_out, left_on = 'id', right_on = 'img_id')\n",
        "cb_train.loc[:,'text'] = cb_train.apply(lambda x: combine_str(x['text'], x['desc']), 1)"
      ],
      "execution_count": null,
      "outputs": []
    },
    {
      "cell_type": "code",
      "metadata": {
        "colab": {
          "base_uri": "https://localhost:8080/",
          "height": 589
        },
        "id": "1S8Qgr-drlWO",
        "outputId": "284d79b6-e153-49f2-af73-1ca4bf796f09"
      },
      "source": [
        "cb_train"
      ],
      "execution_count": null,
      "outputs": [
        {
          "output_type": "execute_result",
          "data": {
            "text/html": [
              "<div>\n",
              "<style scoped>\n",
              "    .dataframe tbody tr th:only-of-type {\n",
              "        vertical-align: middle;\n",
              "    }\n",
              "\n",
              "    .dataframe tbody tr th {\n",
              "        vertical-align: top;\n",
              "    }\n",
              "\n",
              "    .dataframe thead th {\n",
              "        text-align: right;\n",
              "    }\n",
              "</style>\n",
              "<table border=\"1\" class=\"dataframe\">\n",
              "  <thead>\n",
              "    <tr style=\"text-align: right;\">\n",
              "      <th></th>\n",
              "      <th>id</th>\n",
              "      <th>img</th>\n",
              "      <th>label</th>\n",
              "      <th>text</th>\n",
              "      <th>img_id</th>\n",
              "      <th>desc</th>\n",
              "    </tr>\n",
              "  </thead>\n",
              "  <tbody>\n",
              "    <tr>\n",
              "      <th>0</th>\n",
              "      <td>42953</td>\n",
              "      <td>img/42953.png</td>\n",
              "      <td>0</td>\n",
              "      <td>its their character not their color that matte...</td>\n",
              "      <td>42953</td>\n",
              "      <td>an adult person who is male (as opposed to a w...</td>\n",
              "    </tr>\n",
              "    <tr>\n",
              "      <th>1</th>\n",
              "      <td>23058</td>\n",
              "      <td>img/23058.png</td>\n",
              "      <td>0</td>\n",
              "      <td>don't be afraid to love again everyone is not ...</td>\n",
              "      <td>23058</td>\n",
              "      <td>an adult person who is male (as opposed to a w...</td>\n",
              "    </tr>\n",
              "    <tr>\n",
              "      <th>2</th>\n",
              "      <td>13894</td>\n",
              "      <td>img/13894.png</td>\n",
              "      <td>0</td>\n",
              "      <td>putting bows on your pet|feline mammal usually...</td>\n",
              "      <td>13894</td>\n",
              "      <td>feline mammal usually having thick soft fur an...</td>\n",
              "    </tr>\n",
              "    <tr>\n",
              "      <th>3</th>\n",
              "      <td>37408</td>\n",
              "      <td>img/37408.png</td>\n",
              "      <td>0</td>\n",
              "      <td>i love everything and everybody! except for sq...</td>\n",
              "      <td>37408</td>\n",
              "      <td>the sense organ for hearing and equilibrium|a ...</td>\n",
              "    </tr>\n",
              "    <tr>\n",
              "      <th>4</th>\n",
              "      <td>82403</td>\n",
              "      <td>img/82403.png</td>\n",
              "      <td>0</td>\n",
              "      <td>everybody loves chocolate chip cookies, even h...</td>\n",
              "      <td>82403</td>\n",
              "      <td>an adult person who is male (as opposed to a w...</td>\n",
              "    </tr>\n",
              "    <tr>\n",
              "      <th>...</th>\n",
              "      <td>...</td>\n",
              "      <td>...</td>\n",
              "      <td>...</td>\n",
              "      <td>...</td>\n",
              "      <td>...</td>\n",
              "      <td>...</td>\n",
              "    </tr>\n",
              "    <tr>\n",
              "      <th>8495</th>\n",
              "      <td>10423</td>\n",
              "      <td>img/10423.png</td>\n",
              "      <td>1</td>\n",
              "      <td>nobody wants to hang auschwitz me|an adult per...</td>\n",
              "      <td>10423</td>\n",
              "      <td>an adult person who is male (as opposed to a w...</td>\n",
              "    </tr>\n",
              "    <tr>\n",
              "      <th>8496</th>\n",
              "      <td>98203</td>\n",
              "      <td>img/98203.png</td>\n",
              "      <td>1</td>\n",
              "      <td>when god grants you a child after 20 years of ...</td>\n",
              "      <td>98203</td>\n",
              "      <td>an adult person who is male (as opposed to a w...</td>\n",
              "    </tr>\n",
              "    <tr>\n",
              "      <th>8497</th>\n",
              "      <td>36947</td>\n",
              "      <td>img/36947.png</td>\n",
              "      <td>1</td>\n",
              "      <td>gays on social media: equality! body positivit...</td>\n",
              "      <td>36947</td>\n",
              "      <td>an adult female person (as opposed to a man|a ...</td>\n",
              "    </tr>\n",
              "    <tr>\n",
              "      <th>8498</th>\n",
              "      <td>16492</td>\n",
              "      <td>img/16492.png</td>\n",
              "      <td>1</td>\n",
              "      <td>having a bad day? you could be a siamese twin ...</td>\n",
              "      <td>16492</td>\n",
              "      <td>an adult person who is male (as opposed to a w...</td>\n",
              "    </tr>\n",
              "    <tr>\n",
              "      <th>8499</th>\n",
              "      <td>15937</td>\n",
              "      <td>img/15937.png</td>\n",
              "      <td>1</td>\n",
              "      <td>i hate muslims too they take their religion to...</td>\n",
              "      <td>15937</td>\n",
              "      <td>feline mammal usually having thick soft fur an...</td>\n",
              "    </tr>\n",
              "  </tbody>\n",
              "</table>\n",
              "<p>8500 rows × 6 columns</p>\n",
              "</div>"
            ],
            "text/plain": [
              "         id  ...                                               desc\n",
              "0     42953  ...  an adult person who is male (as opposed to a w...\n",
              "1     23058  ...  an adult person who is male (as opposed to a w...\n",
              "2     13894  ...  feline mammal usually having thick soft fur an...\n",
              "3     37408  ...  the sense organ for hearing and equilibrium|a ...\n",
              "4     82403  ...  an adult person who is male (as opposed to a w...\n",
              "...     ...  ...                                                ...\n",
              "8495  10423  ...  an adult person who is male (as opposed to a w...\n",
              "8496  98203  ...  an adult person who is male (as opposed to a w...\n",
              "8497  36947  ...  an adult female person (as opposed to a man|a ...\n",
              "8498  16492  ...  an adult person who is male (as opposed to a w...\n",
              "8499  15937  ...  feline mammal usually having thick soft fur an...\n",
              "\n",
              "[8500 rows x 6 columns]"
            ]
          },
          "metadata": {
            "tags": []
          },
          "execution_count": 58
        }
      ]
    },
    {
      "cell_type": "code",
      "metadata": {
        "id": "m4P7nbY-rxlG"
      },
      "source": [
        "# Re_preduce JSONL file\n",
        "train_out = cb_train.loc[:,['id','img','label','text']].to_json(orient='records', lines=True)"
      ],
      "execution_count": null,
      "outputs": []
    },
    {
      "cell_type": "code",
      "metadata": {
        "colab": {
          "base_uri": "https://localhost:8080/",
          "height": 35
        },
        "id": "FW6iRQ5i_LHP",
        "outputId": "ee5de178-bb2d-4507-b90d-2718cd6cc279"
      },
      "source": [
        "string = '{\"img\":\"img/42953.png\"}'\n",
        "json.dumps(json.loads(string))"
      ],
      "execution_count": null,
      "outputs": [
        {
          "output_type": "execute_result",
          "data": {
            "application/vnd.google.colaboratory.intrinsic+json": {
              "type": "string"
            },
            "text/plain": [
              "'{\"img\": \"img/42953.png\"}'"
            ]
          },
          "metadata": {
            "tags": []
          },
          "execution_count": 54
        }
      ]
    },
    {
      "cell_type": "code",
      "metadata": {
        "id": "yV3XTxoV3q-b"
      },
      "source": [
        "c = 0\n",
        "train_list = train_out.split('\\n')\n",
        "for c in range(20): # i in train_out.split('\\n'):\n",
        "  print(json.dumps(json.loads(train_list[c])))\n",
        "  "
      ],
      "execution_count": null,
      "outputs": []
    },
    {
      "cell_type": "code",
      "metadata": {
        "id": "dCECDqd8r3wx"
      },
      "source": [
        "with open('/content/drive/MyDrive/Deep_Learning_Project/hateful_memes/train_cb.jsonl', 'w') as outfile:\n",
        "    for entry in train_out.split('\\n'):\n",
        "        outfile.write(json.dumps(json.loads(entry)))\n",
        "        outfile.write('\\n')"
      ],
      "execution_count": null,
      "outputs": []
    },
    {
      "cell_type": "code",
      "metadata": {
        "id": "jKaBOu5Y422Q"
      },
      "source": [
        "raw_data1 = []\n",
        "splits = 'train_cb' #, 'traindev','test_seen','test_unseen'\n",
        "with open(os.path.join(\"/content/drive/MyDrive/Deep_Learning_Project/hateful_memes/\", f\"{splits}.jsonl\"), 'r') as j:\n",
        "  for line in j:\n",
        "    raw_data1.append(json.loads(line))"
      ],
      "execution_count": null,
      "outputs": []
    },
    {
      "cell_type": "code",
      "metadata": {
        "id": "A9w1v78v5ALC"
      },
      "source": [
        "raw_data1"
      ],
      "execution_count": null,
      "outputs": []
    },
    {
      "cell_type": "code",
      "metadata": {
        "id": "EI6ZOM9f5HrM"
      },
      "source": [
        "raw_data"
      ],
      "execution_count": null,
      "outputs": []
    }
  ]
}